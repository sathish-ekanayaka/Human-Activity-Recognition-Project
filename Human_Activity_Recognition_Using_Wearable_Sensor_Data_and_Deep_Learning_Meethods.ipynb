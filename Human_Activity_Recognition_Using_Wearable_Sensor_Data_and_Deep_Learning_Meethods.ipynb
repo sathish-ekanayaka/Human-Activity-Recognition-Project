{
  "nbformat": 4,
  "nbformat_minor": 0,
  "metadata": {
    "colab": {
      "name": "Human Activity Recognition Using Wearable Sensor Data and Deep Learning Meethods.ipynb",
      "provenance": [],
      "collapsed_sections": [],
      "include_colab_link": true
    },
    "kernelspec": {
      "display_name": "Python 3",
      "name": "python3"
    }
  },
  "cells": [
    {
      "cell_type": "markdown",
      "metadata": {
        "id": "view-in-github",
        "colab_type": "text"
      },
      "source": [
        "<a href=\"https://colab.research.google.com/github/sathish-ekanayaka/Human-Activity-Recognition-Project/blob/main/Human_Activity_Recognition_Using_Wearable_Sensor_Data_and_Deep_Learning_Meethods.ipynb\" target=\"_parent\"><img src=\"https://colab.research.google.com/assets/colab-badge.svg\" alt=\"Open In Colab\"/></a>"
      ]
    },
    {
      "cell_type": "code",
      "metadata": {
        "id": "XFgHfZ-be_I_"
      },
      "source": [
        "'''Importing required libraries'''\n",
        "\n",
        "import pandas as pd\n",
        "import numpy as np\n",
        "from scipy import signal as sig\n",
        "import matplotlib.pyplot as plt\n",
        "from math import pi\n",
        "plt.rcParams['figure.figsize']=[100,20]\n",
        "plt.rcParams.update({'font.size':10})\n",
        "from google.colab import files\n",
        "import os \n",
        "import glob\n",
        "import tensorflow as tf"
      ],
      "execution_count": 1,
      "outputs": []
    },
    {
      "cell_type": "code",
      "metadata": {
        "colab": {
          "base_uri": "https://localhost:8080/"
        },
        "id": "FKymzpMoJnm8",
        "outputId": "941558fa-0780-4558-f5db-45e1345bf756"
      },
      "source": [
        "'''Connecting google drive'''\r\n",
        "from google.colab import drive\r\n",
        "drive.mount('/content/drive')"
      ],
      "execution_count": 2,
      "outputs": [
        {
          "output_type": "stream",
          "text": [
            "Mounted at /content/drive\n"
          ],
          "name": "stdout"
        }
      ]
    },
    {
      "cell_type": "code",
      "metadata": {
        "id": "7BlbONRFabdi",
        "colab": {
          "base_uri": "https://localhost:8080/"
        },
        "outputId": "3f659fe9-d59d-459c-9bac-2b9f77a2825d"
      },
      "source": [
        "'''Preparing datasets as 50*9 pixel images'''\r\n",
        "\r\n",
        "#L1=Standing\r\n",
        "#L4=Walking\r\n",
        "#L10=Jogging\r\n",
        "#L11=Running\r\n",
        "\r\n",
        "def activitydf(acceldata,label1,label4,label10,label11):\r\n",
        "  acceldatawithcolumns=acceldata.set_axis(['chestAccX', 'chestAccY', 'chestAccZ', 'electro1', 'electro2','LancklAccX','LancklAccY','LancklAccZ','LancklGyX','LancklGyY','LancklGyZ','LancklMagX','LancklMagY','LancklMagZ','RLarmAccX','RLarmAccY','RLarmAccZ','RLarmGyX','RLarmGyY','RLarmGyZ','RLarmMagX','RLarmMagY','RLarmMagZ','ActivityLabel'], axis=1, inplace=False)\r\n",
        "  selectedfeatures=acceldatawithcolumns[['chestAccX','chestAccY','chestAccZ','LancklAccX','LancklAccY','LancklAccZ','LancklGyX','LancklGyY','LancklGyZ','ActivityLabel']]\r\n",
        "  selectedfeatures.drop(selectedfeatures.index[selectedfeatures['ActivityLabel'] == 0], inplace = True)\r\n",
        "\r\n",
        "  Standing=selectedfeatures.loc[selectedfeatures['ActivityLabel'] ==label1 ].reset_index()\r\n",
        "  Standing.drop(['index'], axis=1,inplace=True)\r\n",
        "  rows1=Standing.shape[0]\r\n",
        "  rows1=rows1-rows1%50\r\n",
        "  Standing=Standing.iloc[0:rows1,:]\r\n",
        "  Standing=Standing.drop(['ActivityLabel'], axis=1)\r\n",
        "  Standingdata=Standing.to_numpy()\r\n",
        "  StandingdataX=np.reshape(Standingdata,(-1,50,9))\r\n",
        "  StandingdataY = np.array(['Standing' for _ in range(StandingdataX.shape[0])])\r\n",
        "\r\n",
        "  Walking=selectedfeatures.loc[selectedfeatures['ActivityLabel'] ==label4 ].reset_index()\r\n",
        "  Walking.drop(['index'], axis=1,inplace=True)\r\n",
        "  rows4=Walking.shape[0]\r\n",
        "  rows4=rows4-rows4%50\r\n",
        "  Walking=Walking.iloc[0:rows4,:]\r\n",
        "  Walking=Walking.drop(['ActivityLabel'], axis=1)\r\n",
        "  Walkingdata=Walking.to_numpy()\r\n",
        "  WalkingdataX=np.reshape(Walkingdata,(-1,50,9))\r\n",
        "  WalkingdataY = np.array(['Walking' for _ in range(WalkingdataX.shape[0])])\r\n",
        "\r\n",
        "\r\n",
        "  Jogging=selectedfeatures.loc[selectedfeatures['ActivityLabel'] ==label10 ].reset_index()\r\n",
        "  Jogging.drop(['index'], axis=1,inplace=True)\r\n",
        "  rows10=Jogging.shape[0]\r\n",
        "  rows10=rows10-rows10%50\r\n",
        "  Jogging=Jogging.iloc[0:rows10,:]\r\n",
        "  Jogging=Jogging.drop(['ActivityLabel'], axis=1)\r\n",
        "  Joggingdata=Jogging.to_numpy()\r\n",
        "  JoggingdataX=np.reshape(Joggingdata,(-1,50,9))\r\n",
        "  JoggingdataY = np.array(['Jogging' for _ in range(JoggingdataX.shape[0])])\r\n",
        "\r\n",
        "\r\n",
        "\r\n",
        "  Running=selectedfeatures.loc[selectedfeatures['ActivityLabel'] ==label11 ].reset_index()\r\n",
        "  Running.drop(['index'], axis=1,inplace=True)\r\n",
        "  rows11=Running.shape[0]\r\n",
        "  rows11=rows11-rows11%50\r\n",
        "  Running=Running.iloc[0:rows11,:]\r\n",
        "  Running=Running.drop(['ActivityLabel'], axis=1)\r\n",
        "  Runningdata=Running.to_numpy()\r\n",
        "  RunningdataX=np.reshape(Runningdata,(-1,50,9))\r\n",
        "  RunningdataY = np.array(['Running' for _ in range(RunningdataX.shape[0])])\r\n",
        "\r\n",
        "  \r\n",
        "  return StandingdataX,WalkingdataX,JoggingdataX,RunningdataX,StandingdataY,WalkingdataY,JoggingdataY,RunningdataY\r\n",
        "\r\n",
        "\r\n"
      ],
      "execution_count": 52,
      "outputs": [
        {
          "output_type": "stream",
          "text": [
            "time: 89.7 ms (started: 2021-02-12 05:29:31 +00:00)\n"
          ],
          "name": "stdout"
        }
      ]
    },
    {
      "cell_type": "code",
      "metadata": {
        "id": "dbAzeSTr_L1B"
      },
      "source": [
        "''' importing min max scaler for feature scale data'''\r\n",
        "from sklearn.preprocessing import MinMaxScaler\r\n",
        "\r\n",
        "sc=MinMaxScaler()"
      ],
      "execution_count": 4,
      "outputs": []
    },
    {
      "cell_type": "code",
      "metadata": {
        "id": "4w7fedJlGzDn"
      },
      "source": [
        "'''Before feeding into the neural network, we need to prepare our data according to a suitable shape, So here we have initialized numpy arrays with\r\n",
        "zeros for later convert them to training and testing data by assigning right values'''\r\n",
        "\r\n",
        "def arrayinit(a,b,c):\r\n",
        "  arr1x=np.zeros((0,50,9))\r\n",
        "  arr2x=np.zeros((0,50,9))\r\n",
        "  arr3x=np.zeros((0,50,9))\r\n",
        "  arr4x=np.zeros((0,50,9))\r\n",
        "  arr1y=np.zeros((0))\r\n",
        "  arr2y=np.zeros((0))\r\n",
        "  arr3y=np.zeros((0))\r\n",
        "  arr4y=np.zeros((0))\r\n",
        "  return arr1x,arr2x,arr3x,arr4x,arr1y,arr2y,arr3y,arr4y"
      ],
      "execution_count": 5,
      "outputs": []
    },
    {
      "cell_type": "code",
      "metadata": {
        "colab": {
          "base_uri": "https://localhost:8080/"
        },
        "id": "gzwTO_Z9CZW9",
        "outputId": "63d55b65-cf00-4899-a00b-e6691ef498a3"
      },
      "source": [
        "\r\n",
        "\r\n",
        "Sx,Wx,Jx,Rx,Sy,Wy,Jy,Ry=arrayinit(0,50,9)\r\n",
        "os.chdir(r'/content/drive/MyDrive/Final Year Project/MHEALTHDATASET')\r\n",
        "filelist=glob.glob('*.csv')\r\n",
        "for file in filelist:\r\n",
        "  df = pd.read_csv(file)\r\n",
        "  StandingdataX,WalkingdataX,JoggingdataX,RunningdataX,StandingdataY,WalkingdataY,JoggingdataY,RunningdataY=activitydf(df,1,4,10,11)\r\n",
        "  \r\n",
        "  Sx= np.concatenate((Sx, StandingdataX), axis=0)\r\n",
        "  Sx=tf.keras.utils.normalize(Sx,axis=2)\r\n",
        "  Wx= np.concatenate((Wx, WalkingdataX), axis=0)\r\n",
        "  Wx=tf.keras.utils.normalize(Wx,axis=2)\r\n",
        "  Jx= np.concatenate((Jx, JoggingdataX), axis=0)\r\n",
        "  Jx=tf.keras.utils.normalize(Jx,axis=2)\r\n",
        "  Rx= np.concatenate((Rx, RunningdataX), axis=0)\r\n",
        "  Rx=tf.keras.utils.normalize(Rx,axis=2)\r\n",
        "  Sy= np.concatenate((Sy, StandingdataY), axis=0)\r\n",
        "  Wy= np.concatenate((Wy, WalkingdataY), axis=0)\r\n",
        "  Jy= np.concatenate((Jy, JoggingdataY), axis=0)\r\n",
        "  Ry= np.concatenate((Ry, RunningdataY), axis=0)\r\n",
        "  \r\n",
        "  \r\n",
        "\r\n"
      ],
      "execution_count": 6,
      "outputs": [
        {
          "output_type": "stream",
          "text": [
            "/usr/local/lib/python3.6/dist-packages/pandas/core/frame.py:4174: SettingWithCopyWarning: \n",
            "A value is trying to be set on a copy of a slice from a DataFrame\n",
            "\n",
            "See the caveats in the documentation: https://pandas.pydata.org/pandas-docs/stable/user_guide/indexing.html#returning-a-view-versus-a-copy\n",
            "  errors=errors,\n",
            "/usr/local/lib/python3.6/dist-packages/pandas/core/frame.py:4174: SettingWithCopyWarning: \n",
            "A value is trying to be set on a copy of a slice from a DataFrame\n",
            "\n",
            "See the caveats in the documentation: https://pandas.pydata.org/pandas-docs/stable/user_guide/indexing.html#returning-a-view-versus-a-copy\n",
            "  errors=errors,\n",
            "/usr/local/lib/python3.6/dist-packages/pandas/core/frame.py:4174: SettingWithCopyWarning: \n",
            "A value is trying to be set on a copy of a slice from a DataFrame\n",
            "\n",
            "See the caveats in the documentation: https://pandas.pydata.org/pandas-docs/stable/user_guide/indexing.html#returning-a-view-versus-a-copy\n",
            "  errors=errors,\n",
            "/usr/local/lib/python3.6/dist-packages/pandas/core/frame.py:4174: SettingWithCopyWarning: \n",
            "A value is trying to be set on a copy of a slice from a DataFrame\n",
            "\n",
            "See the caveats in the documentation: https://pandas.pydata.org/pandas-docs/stable/user_guide/indexing.html#returning-a-view-versus-a-copy\n",
            "  errors=errors,\n",
            "/usr/local/lib/python3.6/dist-packages/pandas/core/frame.py:4174: SettingWithCopyWarning: \n",
            "A value is trying to be set on a copy of a slice from a DataFrame\n",
            "\n",
            "See the caveats in the documentation: https://pandas.pydata.org/pandas-docs/stable/user_guide/indexing.html#returning-a-view-versus-a-copy\n",
            "  errors=errors,\n",
            "/usr/local/lib/python3.6/dist-packages/pandas/core/frame.py:4174: SettingWithCopyWarning: \n",
            "A value is trying to be set on a copy of a slice from a DataFrame\n",
            "\n",
            "See the caveats in the documentation: https://pandas.pydata.org/pandas-docs/stable/user_guide/indexing.html#returning-a-view-versus-a-copy\n",
            "  errors=errors,\n",
            "/usr/local/lib/python3.6/dist-packages/pandas/core/frame.py:4174: SettingWithCopyWarning: \n",
            "A value is trying to be set on a copy of a slice from a DataFrame\n",
            "\n",
            "See the caveats in the documentation: https://pandas.pydata.org/pandas-docs/stable/user_guide/indexing.html#returning-a-view-versus-a-copy\n",
            "  errors=errors,\n",
            "/usr/local/lib/python3.6/dist-packages/pandas/core/frame.py:4174: SettingWithCopyWarning: \n",
            "A value is trying to be set on a copy of a slice from a DataFrame\n",
            "\n",
            "See the caveats in the documentation: https://pandas.pydata.org/pandas-docs/stable/user_guide/indexing.html#returning-a-view-versus-a-copy\n",
            "  errors=errors,\n",
            "/usr/local/lib/python3.6/dist-packages/pandas/core/frame.py:4174: SettingWithCopyWarning: \n",
            "A value is trying to be set on a copy of a slice from a DataFrame\n",
            "\n",
            "See the caveats in the documentation: https://pandas.pydata.org/pandas-docs/stable/user_guide/indexing.html#returning-a-view-versus-a-copy\n",
            "  errors=errors,\n",
            "/usr/local/lib/python3.6/dist-packages/pandas/core/frame.py:4174: SettingWithCopyWarning: \n",
            "A value is trying to be set on a copy of a slice from a DataFrame\n",
            "\n",
            "See the caveats in the documentation: https://pandas.pydata.org/pandas-docs/stable/user_guide/indexing.html#returning-a-view-versus-a-copy\n",
            "  errors=errors,\n"
          ],
          "name": "stderr"
        }
      ]
    },
    {
      "cell_type": "code",
      "metadata": {
        "colab": {
          "base_uri": "https://localhost:8080/",
          "height": 439
        },
        "id": "2p4y0xT4KtXU",
        "outputId": "3ca77c30-6057-4d65-fa33-572cd63cd4b1"
      },
      "source": [
        "df"
      ],
      "execution_count": 7,
      "outputs": [
        {
          "output_type": "execute_result",
          "data": {
            "text/html": [
              "<div>\n",
              "<style scoped>\n",
              "    .dataframe tbody tr th:only-of-type {\n",
              "        vertical-align: middle;\n",
              "    }\n",
              "\n",
              "    .dataframe tbody tr th {\n",
              "        vertical-align: top;\n",
              "    }\n",
              "\n",
              "    .dataframe thead th {\n",
              "        text-align: right;\n",
              "    }\n",
              "</style>\n",
              "<table border=\"1\" class=\"dataframe\">\n",
              "  <thead>\n",
              "    <tr style=\"text-align: right;\">\n",
              "      <th></th>\n",
              "      <th>-9.6997</th>\n",
              "      <th>-0.87525</th>\n",
              "      <th>-0.96298</th>\n",
              "      <th>-0.029304</th>\n",
              "      <th>-0.07954</th>\n",
              "      <th>0.28409</th>\n",
              "      <th>-9.5692</th>\n",
              "      <th>1.4931</th>\n",
              "      <th>0.70501</th>\n",
              "      <th>-0.48968</th>\n",
              "      <th>0.058939</th>\n",
              "      <th>0.19372</th>\n",
              "      <th>0.36504</th>\n",
              "      <th>-0.44043</th>\n",
              "      <th>-0.9863</th>\n",
              "      <th>-8.7188</th>\n",
              "      <th>4.1161</th>\n",
              "      <th>0.6451</th>\n",
              "      <th>-0.45175</th>\n",
              "      <th>0.69181</th>\n",
              "      <th>0.71991</th>\n",
              "      <th>0.17803</th>\n",
              "      <th>0.37363</th>\n",
              "      <th>0</th>\n",
              "    </tr>\n",
              "  </thead>\n",
              "  <tbody>\n",
              "    <tr>\n",
              "      <th>0</th>\n",
              "      <td>-9.4890</td>\n",
              "      <td>-0.801030</td>\n",
              "      <td>-1.10370</td>\n",
              "      <td>-0.062794</td>\n",
              "      <td>-0.092098</td>\n",
              "      <td>0.41798</td>\n",
              "      <td>-9.6980</td>\n",
              "      <td>1.48800</td>\n",
              "      <td>0.70501</td>\n",
              "      <td>-0.48968</td>\n",
              "      <td>0.058939</td>\n",
              "      <td>0.37005</td>\n",
              "      <td>0.546760</td>\n",
              "      <td>-0.30147</td>\n",
              "      <td>-0.98795</td>\n",
              "      <td>-9.0372</td>\n",
              "      <td>4.27730</td>\n",
              "      <td>0.666670</td>\n",
              "      <td>-0.44353</td>\n",
              "      <td>0.66810</td>\n",
              "      <td>0.54040</td>\n",
              "      <td>0.17978</td>\n",
              "      <td>0.37002</td>\n",
              "      <td>0</td>\n",
              "    </tr>\n",
              "    <tr>\n",
              "      <th>1</th>\n",
              "      <td>-9.5541</td>\n",
              "      <td>-1.083100</td>\n",
              "      <td>-1.24480</td>\n",
              "      <td>-0.075353</td>\n",
              "      <td>-0.117220</td>\n",
              "      <td>0.33479</td>\n",
              "      <td>-9.5896</td>\n",
              "      <td>1.44050</td>\n",
              "      <td>0.69388</td>\n",
              "      <td>-0.48593</td>\n",
              "      <td>0.078585</td>\n",
              "      <td>0.37005</td>\n",
              "      <td>0.546760</td>\n",
              "      <td>-0.30147</td>\n",
              "      <td>-0.89327</td>\n",
              "      <td>-8.7099</td>\n",
              "      <td>4.01240</td>\n",
              "      <td>0.666670</td>\n",
              "      <td>-0.44353</td>\n",
              "      <td>0.66810</td>\n",
              "      <td>0.72539</td>\n",
              "      <td>0.72599</td>\n",
              "      <td>0.72927</td>\n",
              "      <td>0</td>\n",
              "    </tr>\n",
              "    <tr>\n",
              "      <th>2</th>\n",
              "      <td>-9.3680</td>\n",
              "      <td>-0.791410</td>\n",
              "      <td>-0.93438</td>\n",
              "      <td>-0.092098</td>\n",
              "      <td>-0.129770</td>\n",
              "      <td>0.27516</td>\n",
              "      <td>-9.6480</td>\n",
              "      <td>1.54120</td>\n",
              "      <td>0.69388</td>\n",
              "      <td>-0.48593</td>\n",
              "      <td>0.078585</td>\n",
              "      <td>0.37877</td>\n",
              "      <td>0.730160</td>\n",
              "      <td>-0.59208</td>\n",
              "      <td>-0.95632</td>\n",
              "      <td>-8.7986</td>\n",
              "      <td>4.14340</td>\n",
              "      <td>0.666670</td>\n",
              "      <td>-0.44353</td>\n",
              "      <td>0.66810</td>\n",
              "      <td>0.54392</td>\n",
              "      <td>0.53186</td>\n",
              "      <td>-0.71646</td>\n",
              "      <td>0</td>\n",
              "    </tr>\n",
              "    <tr>\n",
              "      <th>3</th>\n",
              "      <td>-9.6678</td>\n",
              "      <td>-0.953350</td>\n",
              "      <td>-1.20160</td>\n",
              "      <td>-0.092098</td>\n",
              "      <td>-0.129770</td>\n",
              "      <td>0.32434</td>\n",
              "      <td>-9.6298</td>\n",
              "      <td>1.37590</td>\n",
              "      <td>0.69388</td>\n",
              "      <td>-0.48593</td>\n",
              "      <td>0.078585</td>\n",
              "      <td>0.37005</td>\n",
              "      <td>0.546760</td>\n",
              "      <td>-0.30147</td>\n",
              "      <td>-0.95808</td>\n",
              "      <td>-8.5089</td>\n",
              "      <td>4.10580</td>\n",
              "      <td>0.668630</td>\n",
              "      <td>-0.45175</td>\n",
              "      <td>0.69181</td>\n",
              "      <td>0.54210</td>\n",
              "      <td>0.35041</td>\n",
              "      <td>-0.71468</td>\n",
              "      <td>0</td>\n",
              "    </tr>\n",
              "    <tr>\n",
              "      <th>4</th>\n",
              "      <td>-9.4274</td>\n",
              "      <td>-0.851920</td>\n",
              "      <td>-1.00300</td>\n",
              "      <td>-0.092098</td>\n",
              "      <td>-0.133960</td>\n",
              "      <td>0.43008</td>\n",
              "      <td>-9.7661</td>\n",
              "      <td>1.60970</td>\n",
              "      <td>0.70501</td>\n",
              "      <td>-0.47842</td>\n",
              "      <td>0.055010</td>\n",
              "      <td>0.18939</td>\n",
              "      <td>0.365080</td>\n",
              "      <td>-0.29604</td>\n",
              "      <td>-1.19700</td>\n",
              "      <td>-8.6289</td>\n",
              "      <td>4.11020</td>\n",
              "      <td>0.668630</td>\n",
              "      <td>-0.45175</td>\n",
              "      <td>0.69181</td>\n",
              "      <td>0.72176</td>\n",
              "      <td>0.36309</td>\n",
              "      <td>0.73283</td>\n",
              "      <td>0</td>\n",
              "    </tr>\n",
              "    <tr>\n",
              "      <th>...</th>\n",
              "      <td>...</td>\n",
              "      <td>...</td>\n",
              "      <td>...</td>\n",
              "      <td>...</td>\n",
              "      <td>...</td>\n",
              "      <td>...</td>\n",
              "      <td>...</td>\n",
              "      <td>...</td>\n",
              "      <td>...</td>\n",
              "      <td>...</td>\n",
              "      <td>...</td>\n",
              "      <td>...</td>\n",
              "      <td>...</td>\n",
              "      <td>...</td>\n",
              "      <td>...</td>\n",
              "      <td>...</td>\n",
              "      <td>...</td>\n",
              "      <td>...</td>\n",
              "      <td>...</td>\n",
              "      <td>...</td>\n",
              "      <td>...</td>\n",
              "      <td>...</td>\n",
              "      <td>...</td>\n",
              "      <td>...</td>\n",
              "    </tr>\n",
              "    <tr>\n",
              "      <th>98298</th>\n",
              "      <td>-9.2476</td>\n",
              "      <td>-0.248070</td>\n",
              "      <td>-2.62230</td>\n",
              "      <td>0.230250</td>\n",
              "      <td>0.234430</td>\n",
              "      <td>1.78490</td>\n",
              "      <td>-9.8287</td>\n",
              "      <td>0.29725</td>\n",
              "      <td>-0.34137</td>\n",
              "      <td>-0.90056</td>\n",
              "      <td>-0.614930</td>\n",
              "      <td>-0.68764</td>\n",
              "      <td>0.557340</td>\n",
              "      <td>-1.14620</td>\n",
              "      <td>-3.71980</td>\n",
              "      <td>-8.9071</td>\n",
              "      <td>0.29423</td>\n",
              "      <td>0.041176</td>\n",
              "      <td>-0.99384</td>\n",
              "      <td>-0.48060</td>\n",
              "      <td>2.40890</td>\n",
              "      <td>7.49610</td>\n",
              "      <td>7.91550</td>\n",
              "      <td>0</td>\n",
              "    </tr>\n",
              "    <tr>\n",
              "      <th>98299</th>\n",
              "      <td>-9.4632</td>\n",
              "      <td>-0.073513</td>\n",
              "      <td>-2.11190</td>\n",
              "      <td>0.276300</td>\n",
              "      <td>0.284670</td>\n",
              "      <td>1.86870</td>\n",
              "      <td>-9.8766</td>\n",
              "      <td>0.46236</td>\n",
              "      <td>-0.34137</td>\n",
              "      <td>-0.90056</td>\n",
              "      <td>-0.614930</td>\n",
              "      <td>-0.86819</td>\n",
              "      <td>0.742630</td>\n",
              "      <td>-1.14450</td>\n",
              "      <td>-3.71600</td>\n",
              "      <td>-8.7455</td>\n",
              "      <td>0.44814</td>\n",
              "      <td>0.041176</td>\n",
              "      <td>-0.99384</td>\n",
              "      <td>-0.48060</td>\n",
              "      <td>1.69450</td>\n",
              "      <td>7.86600</td>\n",
              "      <td>7.89750</td>\n",
              "      <td>0</td>\n",
              "    </tr>\n",
              "    <tr>\n",
              "      <th>98300</th>\n",
              "      <td>-9.4011</td>\n",
              "      <td>-0.144580</td>\n",
              "      <td>-3.02350</td>\n",
              "      <td>0.288850</td>\n",
              "      <td>0.301410</td>\n",
              "      <td>1.69280</td>\n",
              "      <td>-9.9290</td>\n",
              "      <td>0.16631</td>\n",
              "      <td>-0.34137</td>\n",
              "      <td>-0.90056</td>\n",
              "      <td>-0.614930</td>\n",
              "      <td>-0.86841</td>\n",
              "      <td>0.008684</td>\n",
              "      <td>-1.13710</td>\n",
              "      <td>-3.88240</td>\n",
              "      <td>-9.1155</td>\n",
              "      <td>0.45048</td>\n",
              "      <td>0.041176</td>\n",
              "      <td>-0.99384</td>\n",
              "      <td>-0.48060</td>\n",
              "      <td>1.15770</td>\n",
              "      <td>8.05280</td>\n",
              "      <td>7.88490</td>\n",
              "      <td>0</td>\n",
              "    </tr>\n",
              "    <tr>\n",
              "      <th>98301</th>\n",
              "      <td>-9.3732</td>\n",
              "      <td>-0.026252</td>\n",
              "      <td>-2.70760</td>\n",
              "      <td>0.351650</td>\n",
              "      <td>0.347460</td>\n",
              "      <td>1.52790</td>\n",
              "      <td>-9.6306</td>\n",
              "      <td>0.30458</td>\n",
              "      <td>-0.34137</td>\n",
              "      <td>-0.90056</td>\n",
              "      <td>-0.614930</td>\n",
              "      <td>-0.33979</td>\n",
              "      <td>-0.730550</td>\n",
              "      <td>-0.70740</td>\n",
              "      <td>-3.55640</td>\n",
              "      <td>-9.1441</td>\n",
              "      <td>0.59488</td>\n",
              "      <td>0.041176</td>\n",
              "      <td>-0.99384</td>\n",
              "      <td>-0.48060</td>\n",
              "      <td>0.27441</td>\n",
              "      <td>9.48790</td>\n",
              "      <td>5.32580</td>\n",
              "      <td>0</td>\n",
              "    </tr>\n",
              "    <tr>\n",
              "      <th>98302</th>\n",
              "      <td>-9.3518</td>\n",
              "      <td>-0.592450</td>\n",
              "      <td>-2.63230</td>\n",
              "      <td>0.280480</td>\n",
              "      <td>0.272110</td>\n",
              "      <td>1.66140</td>\n",
              "      <td>-9.8398</td>\n",
              "      <td>0.18088</td>\n",
              "      <td>-0.33210</td>\n",
              "      <td>-0.90432</td>\n",
              "      <td>-0.618860</td>\n",
              "      <td>-0.15923</td>\n",
              "      <td>-0.915840</td>\n",
              "      <td>-0.70916</td>\n",
              "      <td>-3.90350</td>\n",
              "      <td>-8.9324</td>\n",
              "      <td>0.76171</td>\n",
              "      <td>0.035294</td>\n",
              "      <td>-1.02050</td>\n",
              "      <td>-0.47198</td>\n",
              "      <td>-0.98056</td>\n",
              "      <td>9.66360</td>\n",
              "      <td>3.49390</td>\n",
              "      <td>0</td>\n",
              "    </tr>\n",
              "  </tbody>\n",
              "</table>\n",
              "<p>98303 rows × 24 columns</p>\n",
              "</div>"
            ],
            "text/plain": [
              "       -9.6997  -0.87525  -0.96298  -0.029304  ...  0.71991  0.17803  0.37363  0\n",
              "0      -9.4890 -0.801030  -1.10370  -0.062794  ...  0.54040  0.17978  0.37002  0\n",
              "1      -9.5541 -1.083100  -1.24480  -0.075353  ...  0.72539  0.72599  0.72927  0\n",
              "2      -9.3680 -0.791410  -0.93438  -0.092098  ...  0.54392  0.53186 -0.71646  0\n",
              "3      -9.6678 -0.953350  -1.20160  -0.092098  ...  0.54210  0.35041 -0.71468  0\n",
              "4      -9.4274 -0.851920  -1.00300  -0.092098  ...  0.72176  0.36309  0.73283  0\n",
              "...        ...       ...       ...        ...  ...      ...      ...      ... ..\n",
              "98298  -9.2476 -0.248070  -2.62230   0.230250  ...  2.40890  7.49610  7.91550  0\n",
              "98299  -9.4632 -0.073513  -2.11190   0.276300  ...  1.69450  7.86600  7.89750  0\n",
              "98300  -9.4011 -0.144580  -3.02350   0.288850  ...  1.15770  8.05280  7.88490  0\n",
              "98301  -9.3732 -0.026252  -2.70760   0.351650  ...  0.27441  9.48790  5.32580  0\n",
              "98302  -9.3518 -0.592450  -2.63230   0.280480  ... -0.98056  9.66360  3.49390  0\n",
              "\n",
              "[98303 rows x 24 columns]"
            ]
          },
          "metadata": {
            "tags": []
          },
          "execution_count": 7
        }
      ]
    },
    {
      "cell_type": "code",
      "metadata": {
        "id": "cQkqbjsYoPYR"
      },
      "source": [
        "'''Preparing labels'''\r\n",
        "\r\n",
        "\r\n",
        "Syn= np.full((610, 1), 0)\r\n",
        "Wyn= np.full((610, 1), 1)\r\n",
        "Jyn= np.full((610, 1), 2)\r\n",
        "Ryn= np.full((610, 1), 3)\r\n"
      ],
      "execution_count": 8,
      "outputs": []
    },
    {
      "cell_type": "code",
      "metadata": {
        "colab": {
          "base_uri": "https://localhost:8080/",
          "height": 499
        },
        "id": "gFviMYqpPnHg",
        "outputId": "f60e9b26-d9c4-43ba-ceff-83affc29e583"
      },
      "source": [
        "'''Plotting image samples from each category to get an intuition'''\r\n",
        "\r\n",
        "images=[Sx[100],Wx[300],Jx[300],Rx[300]]\r\n",
        "titles=['Standing','Walking','Jogging','Running']\r\n",
        "\r\n",
        "w=10\r\n",
        "h=10\r\n",
        "fig=plt.figure(figsize=(8, 8))\r\n",
        "columns = 4\r\n",
        "rows = 1\r\n",
        "for i,title,image in zip(range(1, columns*rows +1),titles,images):\r\n",
        "    img = image\r\n",
        "    fig.add_subplot(rows, columns, i)\r\n",
        "    plt.title(title)\r\n",
        "    plt.imshow(img)\r\n",
        "plt.show()\r\n"
      ],
      "execution_count": 9,
      "outputs": [
        {
          "output_type": "display_data",
          "data": {
            "image/png": "[encoded data removed]",
            "text/plain": [
              "<Figure size 576x576 with 4 Axes>"
            ]
          },
          "metadata": {
            "tags": [],
            "needs_background": "light"
          }
        }
      ]
    },
    {
      "cell_type": "code",
      "metadata": {
        "colab": {
          "base_uri": "https://localhost:8080/"
        },
        "id": "Dop1n-3I7j_6",
        "outputId": "78f651f4-5e3a-4a58-a539-f3d09be6d50f"
      },
      "source": [
        "Sx[1].shape"
      ],
      "execution_count": 10,
      "outputs": [
        {
          "output_type": "execute_result",
          "data": {
            "text/plain": [
              "(50, 9)"
            ]
          },
          "metadata": {
            "tags": []
          },
          "execution_count": 10
        }
      ]
    },
    {
      "cell_type": "code",
      "metadata": {
        "id": "Rv6x-9_tLtLf"
      },
      "source": [
        "import numpy as np\r\n",
        "import tensorflow as tf \r\n",
        "from tensorflow import keras\r\n",
        "from tensorflow.keras.models import Sequential\r\n",
        "from tensorflow.keras.layers import Activation,Dense,BatchNormalization,Flatten,Conv2D,MaxPool2D,Dropout,BatchNormalization\r\n",
        "from tensorflow.keras.optimizers import Adam\r\n",
        "from tensorflow.keras.metrics import sparse_categorical_accuracy\r\n",
        "from tensorflow.keras.preprocessing.image import ImageDataGenerator\r\n",
        "from sklearn.metrics import confusion_matrix\r\n",
        "from sklearn.model_selection import train_test_split\r\n",
        "import itertools\r\n",
        "import os \r\n",
        "import glob\r\n",
        "import shutil\r\n",
        "import random\r\n",
        "import matplotlib.pyplot as plt\r\n",
        "import warnings\r\n",
        "warnings.simplefilter(action=\"ignore\",category=FutureWarning)\r\n",
        "%matplotlib inline"
      ],
      "execution_count": 11,
      "outputs": []
    },
    {
      "cell_type": "code",
      "metadata": {
        "id": "HeLEThXNMQ2k"
      },
      "source": [
        "'''Creating the convolutional neural network model'''\r\n",
        "model=Sequential([\r\n",
        "                  Conv2D(filters=64,kernel_size=(2,5),activation='relu',padding='same',input_shape=(50,9,1)),\r\n",
        "                  MaxPool2D(pool_size=(2,2),strides=2),\r\n",
        "                  Conv2D(filters=128,kernel_size=(3,3),activation='relu',padding='same'),\r\n",
        "                  Dropout(0.2),\r\n",
        "                  MaxPool2D(pool_size=(3,3),strides=(1,1)),\r\n",
        "                  Conv2D(filters=128,kernel_size=(2,2),activation='relu',padding='same'),\r\n",
        "                  Flatten(),\r\n",
        "                  Dense(units=128,activation='relu'),\r\n",
        "                  Dropout(0.2),\r\n",
        "                  Dense(units=4,activation='softmax')\r\n",
        "\r\n",
        "     ])"
      ],
      "execution_count": 12,
      "outputs": []
    },
    {
      "cell_type": "code",
      "metadata": {
        "colab": {
          "base_uri": "https://localhost:8080/"
        },
        "id": "3dwyvgQnekT3",
        "outputId": "abb2253b-535c-46e9-ecac-d91c6bd70d23"
      },
      "source": [
        "model.summary()"
      ],
      "execution_count": 13,
      "outputs": [
        {
          "output_type": "stream",
          "text": [
            "Model: \"sequential\"\n",
            "_________________________________________________________________\n",
            "Layer (type)                 Output Shape              Param #   \n",
            "=================================================================\n",
            "conv2d (Conv2D)              (None, 50, 9, 64)         704       \n",
            "_________________________________________________________________\n",
            "max_pooling2d (MaxPooling2D) (None, 25, 4, 64)         0         \n",
            "_________________________________________________________________\n",
            "conv2d_1 (Conv2D)            (None, 25, 4, 128)        73856     \n",
            "_________________________________________________________________\n",
            "dropout (Dropout)            (None, 25, 4, 128)        0         \n",
            "_________________________________________________________________\n",
            "max_pooling2d_1 (MaxPooling2 (None, 23, 2, 128)        0         \n",
            "_________________________________________________________________\n",
            "conv2d_2 (Conv2D)            (None, 23, 2, 128)        65664     \n",
            "_________________________________________________________________\n",
            "flatten (Flatten)            (None, 5888)              0         \n",
            "_________________________________________________________________\n",
            "dense (Dense)                (None, 128)               753792    \n",
            "_________________________________________________________________\n",
            "dropout_1 (Dropout)          (None, 128)               0         \n",
            "_________________________________________________________________\n",
            "dense_1 (Dense)              (None, 4)                 516       \n",
            "=================================================================\n",
            "Total params: 894,532\n",
            "Trainable params: 894,532\n",
            "Non-trainable params: 0\n",
            "_________________________________________________________________\n"
          ],
          "name": "stdout"
        }
      ]
    },
    {
      "cell_type": "code",
      "metadata": {
        "id": "wmwvWYYzMqC_"
      },
      "source": [
        "model.compile(optimizer=Adam(learning_rate=0.0001),loss='sparse_categorical_crossentropy',metrics='accuracy')"
      ],
      "execution_count": 14,
      "outputs": []
    },
    {
      "cell_type": "code",
      "metadata": {
        "colab": {
          "base_uri": "https://localhost:8080/",
          "height": 1000
        },
        "id": "lP_mEf9A-0Eh",
        "outputId": "430cc17a-b81c-40fc-a3ac-511f97dfde6b"
      },
      "source": [
        "from keras.utils.vis_utils import plot_model\r\n",
        "plot_model(model, to_file='model_plot.png', show_shapes=True, show_layer_names=True)\r\n"
      ],
      "execution_count": 15,
      "outputs": [
        {
          "output_type": "execute_result",
          "data": {
            "image/png": "[encoded data removed]",
            "text/plain": [
              "<IPython.core.display.Image object>"
            ]
          },
          "metadata": {
            "tags": []
          },
          "execution_count": 15
        }
      ]
    },
    {
      "cell_type": "code",
      "metadata": {
        "id": "SHgr6UrNM8hu",
        "colab": {
          "base_uri": "https://localhost:8080/"
        },
        "outputId": "2c28ecca-23f7-4a56-f5d6-58115c5c0d18"
      },
      "source": [
        "'''Creating data sets for feed into the model'''\r\n",
        "\r\n",
        "Sensor_data=np.concatenate((Sx,Wx,Jx,Rx),axis=0)\r\n",
        "#Sensor_data=Sensor_data.reshape(-1,50,9,1)\r\n",
        "Label_data=np.concatenate((Syn,Wyn,Jyn,Ryn),axis=0)\r\n",
        "#Label_data=Label_data.reshape(-1,1)"
      ],
      "execution_count": 53,
      "outputs": [
        {
          "output_type": "stream",
          "text": [
            "time: 20.6 ms (started: 2021-02-12 05:51:00 +00:00)\n"
          ],
          "name": "stdout"
        }
      ]
    },
    {
      "cell_type": "code",
      "metadata": {
        "colab": {
          "base_uri": "https://localhost:8080/"
        },
        "id": "wXyBYmSO86zl",
        "outputId": "6475f74d-3af0-46de-96ac-dcb01f798ffe"
      },
      "source": [
        "Sensor_data.shape"
      ],
      "execution_count": 54,
      "outputs": [
        {
          "output_type": "execute_result",
          "data": {
            "text/plain": [
              "(2440, 50, 9)"
            ]
          },
          "metadata": {
            "tags": []
          },
          "execution_count": 54
        },
        {
          "output_type": "stream",
          "text": [
            "time: 4.82 ms (started: 2021-02-12 05:51:01 +00:00)\n"
          ],
          "name": "stdout"
        }
      ]
    },
    {
      "cell_type": "code",
      "metadata": {
        "id": "Q1vWZKW5Hmvd",
        "colab": {
          "base_uri": "https://localhost:8080/"
        },
        "outputId": "30ed047b-273f-465b-a134-35834e48ea30"
      },
      "source": [
        "'''creting training and testing sets'''\r\n",
        "x_train,x_test,y_train,y_test=train_test_split(Sensor_data,Label_data,test_size=0.5)"
      ],
      "execution_count": 55,
      "outputs": [
        {
          "output_type": "stream",
          "text": [
            "time: 20.4 ms (started: 2021-02-12 05:51:03 +00:00)\n"
          ],
          "name": "stdout"
        }
      ]
    },
    {
      "cell_type": "code",
      "metadata": {
        "id": "I0ibfqiFjBEw",
        "colab": {
          "base_uri": "https://localhost:8080/"
        },
        "outputId": "fbc27103-1ef3-4bae-87ae-fa633008d2a5"
      },
      "source": [
        "'''Shaping training and testing data as they can be fitted into the model'''\r\n",
        "x_train=x_train.reshape(-1,50,9,1)\r\n",
        "x_test=x_test.reshape(-1,50,9,1)\r\n",
        "y_train=y_train.reshape(-1,1)\r\n",
        "y_test=y_test.reshape(-1,1)\r\n",
        "#Sensor_d=Sensor_data.reshape(-1,50,9,1)\r\n",
        "#Label_d=Label_data.reshape(-1,1)"
      ],
      "execution_count": 56,
      "outputs": [
        {
          "output_type": "stream",
          "text": [
            "time: 3.41 ms (started: 2021-02-12 05:51:04 +00:00)\n"
          ],
          "name": "stdout"
        }
      ]
    },
    {
      "cell_type": "code",
      "metadata": {
        "colab": {
          "base_uri": "https://localhost:8080/"
        },
        "id": "bycw0Go9SnIF",
        "outputId": "cc0f7c80-14fb-403b-ba82-646b7a118f57"
      },
      "source": [
        "x_train.shape"
      ],
      "execution_count": 57,
      "outputs": [
        {
          "output_type": "execute_result",
          "data": {
            "text/plain": [
              "(1220, 50, 9, 1)"
            ]
          },
          "metadata": {
            "tags": []
          },
          "execution_count": 57
        },
        {
          "output_type": "stream",
          "text": [
            "time: 3.57 ms (started: 2021-02-12 05:51:07 +00:00)\n"
          ],
          "name": "stdout"
        }
      ]
    },
    {
      "cell_type": "code",
      "metadata": {
        "id": "azyzy28cjAIB",
        "colab": {
          "base_uri": "https://localhost:8080/"
        },
        "outputId": "9d10672c-3537-4a1e-f0e1-e7768d7e7d7e"
      },
      "source": [
        "#Label_data = Label_data.ravel()"
      ],
      "execution_count": 58,
      "outputs": [
        {
          "output_type": "stream",
          "text": [
            "time: 865 µs (started: 2021-02-12 05:51:08 +00:00)\n"
          ],
          "name": "stdout"
        }
      ]
    },
    {
      "cell_type": "code",
      "metadata": {
        "colab": {
          "base_uri": "https://localhost:8080/"
        },
        "id": "xZ4gMZ7Xsweg",
        "outputId": "2742f175-7154-4178-843f-84e2e700f065"
      },
      "source": [
        "x_test.shape"
      ],
      "execution_count": 59,
      "outputs": [
        {
          "output_type": "execute_result",
          "data": {
            "text/plain": [
              "(1220, 50, 9, 1)"
            ]
          },
          "metadata": {
            "tags": []
          },
          "execution_count": 59
        },
        {
          "output_type": "stream",
          "text": [
            "time: 3.55 ms (started: 2021-02-12 05:51:09 +00:00)\n"
          ],
          "name": "stdout"
        }
      ]
    },
    {
      "cell_type": "code",
      "metadata": {
        "colab": {
          "base_uri": "https://localhost:8080/"
        },
        "id": "FEXmGSnJsolh",
        "outputId": "8fb8b5cc-02de-47c8-a28f-7889de330ed1"
      },
      "source": [
        "!pip install ipython-autotime\r\n",
        "\r\n",
        "%load_ext autotime"
      ],
      "execution_count": 60,
      "outputs": [
        {
          "output_type": "stream",
          "text": [
            "Requirement already satisfied: ipython-autotime in /usr/local/lib/python3.6/dist-packages (0.3.1)\n",
            "Requirement already satisfied: ipython in /usr/local/lib/python3.6/dist-packages (from ipython-autotime) (5.5.0)\n",
            "Requirement already satisfied: traitlets>=4.2 in /usr/local/lib/python3.6/dist-packages (from ipython->ipython-autotime) (4.3.3)\n",
            "Requirement already satisfied: pickleshare in /usr/local/lib/python3.6/dist-packages (from ipython->ipython-autotime) (0.7.5)\n",
            "Requirement already satisfied: pygments in /usr/local/lib/python3.6/dist-packages (from ipython->ipython-autotime) (2.6.1)\n",
            "Requirement already satisfied: pexpect; sys_platform != \"win32\" in /usr/local/lib/python3.6/dist-packages (from ipython->ipython-autotime) (4.8.0)\n",
            "Requirement already satisfied: decorator in /usr/local/lib/python3.6/dist-packages (from ipython->ipython-autotime) (4.4.2)\n",
            "Requirement already satisfied: simplegeneric>0.8 in /usr/local/lib/python3.6/dist-packages (from ipython->ipython-autotime) (0.8.1)\n",
            "Requirement already satisfied: setuptools>=18.5 in /usr/local/lib/python3.6/dist-packages (from ipython->ipython-autotime) (53.0.0)\n",
            "Requirement already satisfied: prompt-toolkit<2.0.0,>=1.0.4 in /usr/local/lib/python3.6/dist-packages (from ipython->ipython-autotime) (1.0.18)\n",
            "Requirement already satisfied: six in /usr/local/lib/python3.6/dist-packages (from traitlets>=4.2->ipython->ipython-autotime) (1.15.0)\n",
            "Requirement already satisfied: ipython-genutils in /usr/local/lib/python3.6/dist-packages (from traitlets>=4.2->ipython->ipython-autotime) (0.2.0)\n",
            "Requirement already satisfied: ptyprocess>=0.5 in /usr/local/lib/python3.6/dist-packages (from pexpect; sys_platform != \"win32\"->ipython->ipython-autotime) (0.7.0)\n",
            "Requirement already satisfied: wcwidth in /usr/local/lib/python3.6/dist-packages (from prompt-toolkit<2.0.0,>=1.0.4->ipython->ipython-autotime) (0.2.5)\n",
            "The autotime extension is already loaded. To reload it, use:\n",
            "  %reload_ext autotime\n",
            "time: 2.66 s (started: 2021-02-12 05:51:11 +00:00)\n"
          ],
          "name": "stdout"
        }
      ]
    },
    {
      "cell_type": "code",
      "metadata": {
        "id": "tX8PPZy9OcIs"
      },
      "source": [
        "'''Training the model'''\r\n",
        "\r\n",
        "\r\n",
        "model.fit(x=x_test,y=y_test,validation_split=0.2,batch_size=100,epochs=99,verbose=2)"
      ],
      "execution_count": null,
      "outputs": []
    },
    {
      "cell_type": "code",
      "metadata": {
        "id": "cNR_wNKuiMCJ",
        "colab": {
          "base_uri": "https://localhost:8080/"
        },
        "outputId": "2bce988a-02d9-43f0-ef77-949f9178687a"
      },
      "source": [
        "import os.path\r\n",
        "if os.path.isfile('/content/drive/MyDrive/Final Year Project/Deep L Models/CNN_model_2.h5') is False:\r\n",
        "  model.save('/content/drive/MyDrive/Final Year Project/Deep L Models/CNN_model_2.h5')"
      ],
      "execution_count": 24,
      "outputs": [
        {
          "output_type": "stream",
          "text": [
            "time: 220 ms (started: 2021-02-12 05:27:41 +00:00)\n"
          ],
          "name": "stdout"
        }
      ]
    },
    {
      "cell_type": "code",
      "metadata": {
        "id": "irE8VJWFXegD",
        "colab": {
          "base_uri": "https://localhost:8080/"
        },
        "outputId": "6c200c9f-dd62-41f4-bc4b-1be634552553"
      },
      "source": [
        "'''After the model is trained we test the model using test set'''\r\n",
        "activity_predictions=model.predict(x_test)"
      ],
      "execution_count": 25,
      "outputs": [
        {
          "output_type": "stream",
          "text": [
            "time: 796 ms (started: 2021-02-12 05:27:42 +00:00)\n"
          ],
          "name": "stdout"
        }
      ]
    },
    {
      "cell_type": "code",
      "metadata": {
        "id": "cZTf59mWSohL",
        "colab": {
          "base_uri": "https://localhost:8080/"
        },
        "outputId": "48bf17c9-eceb-4cb0-be38-6828c8bcace3"
      },
      "source": [
        "\r\n",
        "rounded_predictions=np.argmax(activity_predictions,axis=-1)"
      ],
      "execution_count": 26,
      "outputs": [
        {
          "output_type": "stream",
          "text": [
            "time: 1.66 ms (started: 2021-02-12 05:27:43 +00:00)\n"
          ],
          "name": "stdout"
        }
      ]
    },
    {
      "cell_type": "code",
      "metadata": {
        "colab": {
          "base_uri": "https://localhost:8080/"
        },
        "id": "6L3uq2wGSgRC",
        "outputId": "78d8cddf-e502-462a-ff88-e6edea10d819"
      },
      "source": [
        "rounded_predictions"
      ],
      "execution_count": 27,
      "outputs": [
        {
          "output_type": "execute_result",
          "data": {
            "text/plain": [
              "array([3, 0, 0, ..., 1, 3, 3])"
            ]
          },
          "metadata": {
            "tags": []
          },
          "execution_count": 27
        },
        {
          "output_type": "stream",
          "text": [
            "time: 4.01 ms (started: 2021-02-12 05:27:43 +00:00)\n"
          ],
          "name": "stdout"
        }
      ]
    },
    {
      "cell_type": "code",
      "metadata": {
        "id": "CpJTZwORTAyf",
        "colab": {
          "base_uri": "https://localhost:8080/"
        },
        "outputId": "1e1477e4-46a0-4897-c500-32de2c2bc3c9"
      },
      "source": [
        "def plot_confusion_matrix(path,cm, classes,\r\n",
        "                        normalize=False,\r\n",
        "                        title='Confusion matrix',\r\n",
        "                        cmap=plt.cm.Reds):\r\n",
        "    \"\"\"\r\n",
        "    This function prints and plots the confusion matrix.\r\n",
        "    Normalization can be applied by setting `normalize=True`.\r\n",
        "    \"\"\"\r\n",
        "    plt.imshow(cm, interpolation='nearest', cmap=cmap)\r\n",
        "    plt.title(title)\r\n",
        "    plt.colorbar()\r\n",
        "    tick_marks = np.arange(len(classes))\r\n",
        "    plt.xticks(tick_marks, classes, rotation=45)\r\n",
        "    plt.yticks(tick_marks, classes)\r\n",
        "\r\n",
        "    if normalize:\r\n",
        "        cm = cm.astype('float') / cm.sum(axis=1)[:, np.newaxis]\r\n",
        "        print(\"Normalized confusion matrix\")\r\n",
        "    else:\r\n",
        "        print('Confusion matrix, without normalization')\r\n",
        "\r\n",
        "    print(cm)\r\n",
        "\r\n",
        "    thresh = cm.max() / 2.\r\n",
        "    for i, j in itertools.product(range(cm.shape[0]), range(cm.shape[1])):\r\n",
        "        plt.text(j, i, cm[i, j],\r\n",
        "            horizontalalignment=\"center\",\r\n",
        "            color=\"white\" if cm[i, j] > thresh else \"black\")\r\n",
        "\r\n",
        "    plt.tight_layout()\r\n",
        "    plt.ylabel('True label')\r\n",
        "    plt.xlabel('Predicted label')\r\n",
        "    plt.savefig(path)\r\n"
      ],
      "execution_count": 28,
      "outputs": [
        {
          "output_type": "stream",
          "text": [
            "time: 22 ms (started: 2021-02-12 05:27:43 +00:00)\n"
          ],
          "name": "stdout"
        }
      ]
    },
    {
      "cell_type": "code",
      "metadata": {
        "id": "ANOIY4wgTMcZ",
        "colab": {
          "base_uri": "https://localhost:8080/"
        },
        "outputId": "72ff5568-c9bd-4ceb-830a-c1e13beaf05e"
      },
      "source": [
        "cm_plot_labels = ['Standing','Walking','Jogging','Running']"
      ],
      "execution_count": 29,
      "outputs": [
        {
          "output_type": "stream",
          "text": [
            "time: 1.21 ms (started: 2021-02-12 05:27:43 +00:00)\n"
          ],
          "name": "stdout"
        }
      ]
    },
    {
      "cell_type": "code",
      "metadata": {
        "id": "fWmmMWpXTaA3",
        "colab": {
          "base_uri": "https://localhost:8080/"
        },
        "outputId": "675f5c2b-2533-4437-bc61-dcd5a30a873b"
      },
      "source": [
        "cm= confusion_matrix(y_true=y_test,y_pred=rounded_predictions)"
      ],
      "execution_count": 30,
      "outputs": [
        {
          "output_type": "stream",
          "text": [
            "time: 5.75 ms (started: 2021-02-12 05:27:43 +00:00)\n"
          ],
          "name": "stdout"
        }
      ]
    },
    {
      "cell_type": "code",
      "metadata": {
        "colab": {
          "base_uri": "https://localhost:8080/",
          "height": 413
        },
        "id": "FKyNAfRKTmtF",
        "outputId": "f866b6f5-9a6d-4e71-ec56-bab8286a802a"
      },
      "source": [
        "plot_confusion_matrix('/content/drive/MyDrive/Final Year Project/Deep L Models/confusion matrices/confusion_cnn_2',cm=cm, classes=cm_plot_labels, title='Confusion Matrix')"
      ],
      "execution_count": 31,
      "outputs": [
        {
          "output_type": "stream",
          "text": [
            "Confusion matrix, without normalization\n",
            "[[305   0   0   0]\n",
            " [  0 296   0   0]\n",
            " [  0   0 313   1]\n",
            " [  0   0   0 305]]\n"
          ],
          "name": "stdout"
        },
        {
          "output_type": "display_data",
          "data": {
            "image/png": "[encoded data removed]",
            "text/plain": [
              "<Figure size 432x288 with 2 Axes>"
            ]
          },
          "metadata": {
            "tags": [],
            "needs_background": "light"
          }
        },
        {
          "output_type": "stream",
          "text": [
            "time: 371 ms (started: 2021-02-12 05:27:43 +00:00)\n"
          ],
          "name": "stdout"
        }
      ]
    },
    {
      "cell_type": "code",
      "metadata": {
        "id": "GqXyUU6awLAq",
        "colab": {
          "base_uri": "https://localhost:8080/"
        },
        "outputId": "fff7aa71-3790-4fdb-c315-e108bdef864d"
      },
      "source": [
        "'''This is the function for calculate what the athlete has done in each and every second through out the session, This is one of the functions\r\n",
        "we are going to implement in our web app'''\r\n",
        "'''Here we need to give the paths correctly as we hope to store the relevent csv files in our local computer or server we need to load the sasved model \r\n",
        "from its particular location as well'''\r\n",
        "\r\n",
        "\r\n",
        "def Workload_calculation(path):\r\n",
        "  Trialdf=pd.read_csv(path)\r\n",
        "  Trialdf=Trialdf.set_axis(['chestAccX', 'chestAccY', 'chestAccZ', 'electro1', 'electro2','LancklAccX','LancklAccY','LancklAccZ','LancklGyX','LancklGyY','LancklGyZ','LancklMagX','LancklMagY','LancklMagZ','RLarmAccX','RLarmAccY','RLarmAccZ','RLarmGyX','RLarmGyY','RLarmGyZ','RLarmMagX','RLarmMagY','RLarmMagZ','ActivityLabel'], axis=1, inplace=False)\r\n",
        "  Trialdf=Trialdf[['chestAccX','chestAccY','chestAccZ','LancklAccX','LancklAccY','LancklAccZ','LancklGyX','LancklGyY','LancklGyZ','ActivityLabel']]\r\n",
        "  Trialdf.drop(Trialdf.index[Trialdf['ActivityLabel'] == 0], inplace = True)\r\n",
        "  neededrows=Trialdf.shape[0]\r\n",
        "  neededrows=neededrows-neededrows%50\r\n",
        "  Trialdf=Trialdf.iloc[:neededrows]\r\n",
        "  Trialdf=Trialdf.drop(['ActivityLabel'], axis=1)\r\n",
        "  Trialdf=Trialdf.to_numpy()\r\n",
        "  Trialdf=np.reshape(Trialdf,(-1,50,9,1))\r\n",
        "  Raw_workload=np.argmax(model.predict(Trialdf),axis=1)\r\n",
        "  return Raw_workload\r\n",
        "\r\n"
      ],
      "execution_count": 32,
      "outputs": [
        {
          "output_type": "stream",
          "text": [
            "time: 16.4 ms (started: 2021-02-12 05:27:43 +00:00)\n"
          ],
          "name": "stdout"
        }
      ]
    },
    {
      "cell_type": "code",
      "metadata": {
        "id": "rZo52mv-sOSv",
        "colab": {
          "base_uri": "https://localhost:8080/"
        },
        "outputId": "593d685b-8b05-4f95-97b4-21661f83f183"
      },
      "source": [
        "\r\n",
        "workload=Workload_calculation(\"/content/drive/MyDrive/Final Year Project/MHEALTHDATASET/Subject4.csv\")"
      ],
      "execution_count": 33,
      "outputs": [
        {
          "output_type": "stream",
          "text": [
            "time: 876 ms (started: 2021-02-12 05:27:43 +00:00)\n"
          ],
          "name": "stdout"
        }
      ]
    },
    {
      "cell_type": "code",
      "metadata": {
        "colab": {
          "base_uri": "https://localhost:8080/"
        },
        "id": "s6zBkMpZFVgA",
        "outputId": "612f7a48-5e49-40a0-bf14-3080fd1cb428"
      },
      "source": [
        "workload"
      ],
      "execution_count": 34,
      "outputs": [
        {
          "output_type": "execute_result",
          "data": {
            "text/plain": [
              "array([1, 1, 1, 1, 1, 1, 1, 1, 1, 1, 1, 1, 1, 1, 1, 1, 1, 1, 1, 1, 1, 1,\n",
              "       1, 1, 1, 1, 1, 1, 1, 1, 1, 1, 1, 1, 1, 1, 1, 1, 1, 1, 1, 1, 1, 1,\n",
              "       1, 1, 1, 1, 1, 1, 1, 1, 1, 1, 1, 1, 1, 1, 1, 2, 1, 1, 0, 0, 0, 0,\n",
              "       0, 0, 0, 0, 0, 0, 0, 0, 0, 0, 0, 0, 0, 0, 0, 0, 0, 0, 0, 0, 0, 0,\n",
              "       0, 0, 0, 0, 0, 0, 0, 0, 0, 0, 0, 0, 0, 0, 0, 0, 0, 0, 0, 0, 0, 0,\n",
              "       0, 0, 0, 0, 0, 0, 0, 0, 0, 0, 0, 0, 0, 0, 0, 0, 0, 0, 0, 0, 0, 0,\n",
              "       0, 0, 0, 0, 0, 0, 0, 0, 0, 0, 0, 0, 0, 0, 0, 0, 0, 0, 0, 0, 0, 0,\n",
              "       0, 0, 0, 0, 0, 0, 0, 0, 0, 0, 0, 0, 0, 0, 0, 0, 0, 0, 0, 0, 0, 0,\n",
              "       0, 0, 0, 0, 0, 0, 0, 0, 3, 3, 3, 3, 3, 3, 3, 3, 3, 3, 3, 3, 3, 3,\n",
              "       3, 3, 3, 3, 3, 3, 3, 3, 3, 3, 3, 3, 3, 3, 3, 3, 3, 3, 3, 3, 3, 3,\n",
              "       3, 3, 3, 3, 3, 3, 3, 3, 3, 3, 3, 3, 3, 3, 3, 3, 3, 3, 3, 3, 3, 3,\n",
              "       3, 3, 3, 3, 2, 1, 1, 1, 1, 1, 1, 1, 2, 1, 1, 1, 1, 1, 1, 1, 1, 1,\n",
              "       1, 1, 1, 1, 1, 1, 1, 2, 1, 1, 1, 1, 1, 1, 1, 1, 1, 1, 1, 1, 1, 1,\n",
              "       1, 1, 1, 1, 1, 1, 1, 1, 1, 1, 1, 1, 2, 1, 1, 1, 1, 1, 1, 1, 1, 0,\n",
              "       1, 3, 2, 0, 3, 2, 0, 2, 3, 1, 1, 3, 1, 1, 3, 2, 0, 3, 3, 0, 1, 3,\n",
              "       1, 0, 3, 3, 0, 2, 3, 0, 1, 3, 1, 1, 3, 2, 0, 3, 3, 0, 2, 3, 1, 1,\n",
              "       3, 1, 1, 3, 2, 0, 2, 3, 1, 1, 3, 1, 0, 3, 3, 0, 2, 3, 1, 1, 3, 2,\n",
              "       0, 0, 0, 0, 0, 0, 0, 0, 0, 0, 0, 0, 0, 0, 0, 0, 0, 0, 0, 0, 0, 0,\n",
              "       0, 0, 0, 0, 0, 0, 0, 0, 0, 0, 0, 0, 0, 0, 0, 0, 0, 0, 0, 0, 0, 0,\n",
              "       0, 0, 0, 0, 0, 0, 0, 0, 0, 0, 0, 0, 0, 0, 0, 0, 0, 0, 0, 0, 0, 0,\n",
              "       1, 3, 1, 1, 2, 2, 0, 2, 2, 0, 1, 3, 1, 1, 3, 1, 0, 2, 3, 1, 1, 3,\n",
              "       1, 0, 2, 2, 1, 1, 3, 2, 1, 3, 2, 0, 2, 3, 1, 1, 3, 1, 1, 3, 2, 0,\n",
              "       2, 3, 0, 1, 3, 1, 0, 3, 2, 0, 2, 2, 0, 2, 3, 1, 1, 2, 2, 2, 2, 2,\n",
              "       2, 2, 2, 2, 2, 2, 2, 2, 2, 2, 2, 2, 2, 2, 2, 2, 2, 2, 2, 1, 2, 2,\n",
              "       2, 2, 2, 2, 2, 2, 1, 2, 2, 2, 2, 2, 2, 1, 2, 2, 2, 2, 2, 2, 2, 2,\n",
              "       2, 2, 2, 2, 2, 2, 2, 2, 2, 2, 2, 2, 2, 2, 2, 2, 2, 2, 2, 2, 2, 2,\n",
              "       2, 2, 2, 2, 2, 2, 2, 2, 2, 2, 2, 2, 2, 2, 2, 2, 2, 2, 2, 2, 3, 2,\n",
              "       2, 2, 2, 2, 2, 2, 2, 2, 2, 2, 2, 2, 2, 2, 2, 2, 2, 2, 2, 2, 2, 2,\n",
              "       2, 2, 2, 2, 2, 2, 2, 2, 3, 3, 3, 3, 3, 3, 3, 3, 3, 3, 3, 3, 3, 3,\n",
              "       3, 3, 3, 3, 3, 3, 3, 3, 3, 3, 3, 3, 3, 3, 3, 3, 3, 3, 3, 3, 3, 3,\n",
              "       3, 3, 3, 3, 3, 3, 3, 3, 3, 3, 3, 3, 3, 3, 3, 3, 3, 3, 3, 3, 3, 3,\n",
              "       3, 3, 3, 3, 3, 3, 3, 3, 3, 3, 3, 3, 3, 3, 3, 3, 3, 3, 3, 3, 3, 3,\n",
              "       3, 3])"
            ]
          },
          "metadata": {
            "tags": []
          },
          "execution_count": 34
        },
        {
          "output_type": "stream",
          "text": [
            "time: 6.86 ms (started: 2021-02-12 05:27:44 +00:00)\n"
          ],
          "name": "stdout"
        }
      ]
    },
    {
      "cell_type": "code",
      "metadata": {
        "colab": {
          "base_uri": "https://localhost:8080/",
          "height": 299
        },
        "id": "syntKSpRszgc",
        "outputId": "7f1b1bd6-cb32-44fd-bd55-c74c2021465f"
      },
      "source": [
        "plt.plot(workload,linewidth=2)"
      ],
      "execution_count": 35,
      "outputs": [
        {
          "output_type": "execute_result",
          "data": {
            "text/plain": [
              "[<matplotlib.lines.Line2D at 0x7f6f4150bda0>]"
            ]
          },
          "metadata": {
            "tags": []
          },
          "execution_count": 35
        },
        {
          "output_type": "display_data",
          "data": {
            "image/png": "[encoded data removed]",
            "text/plain": [
              "<Figure size 432x288 with 1 Axes>"
            ]
          },
          "metadata": {
            "tags": [],
            "needs_background": "light"
          }
        },
        {
          "output_type": "stream",
          "text": [
            "time: 191 ms (started: 2021-02-12 05:27:44 +00:00)\n"
          ],
          "name": "stdout"
        }
      ]
    },
    {
      "cell_type": "code",
      "metadata": {
        "id": "LHAMCc0VG1BN",
        "colab": {
          "base_uri": "https://localhost:8080/"
        },
        "outputId": "5468643a-ccf9-4ecf-ebdc-bd89bc9fea85"
      },
      "source": [
        "''' This is the other function we need to implement in our web application'''\r\n",
        "'''In this function the 'workload calculation function will be called and then the number of sprints, normal workload segments and rests during a particular\r\n",
        "are calculated'''\r\n",
        "'''This is the function which should be directly connected with a button'''\r\n",
        "\r\n",
        "\r\n",
        "def calcworklod(path):\r\n",
        "  workload=Workload_calculation(path)\r\n",
        "  rests=0\r\n",
        "  moderates=0\r\n",
        "  sprints=0\r\n",
        "  j=0\r\n",
        "  k=0\r\n",
        "  l=0\r\n",
        "  for i in workload:\r\n",
        "    if i==0 or i==1:\r\n",
        "      if l>5:\r\n",
        "        sprints=sprints+1\r\n",
        "      l=0\r\n",
        "      if k>3:\r\n",
        "        moderates=moderates+1\r\n",
        "      k=0 \r\n",
        "      j=j+1\r\n",
        "    elif i==2:\r\n",
        "      if j>40:\r\n",
        "        rests=rests+1\r\n",
        "      j=0\r\n",
        "      if l>5:\r\n",
        "        sprints=sprints+1\r\n",
        "      l=0\r\n",
        "      k=k+1\r\n",
        "    else:\r\n",
        "      if j>40:\r\n",
        "        rests=rests+1\r\n",
        "      j=0\r\n",
        "      if k>3:\r\n",
        "        moderates=moderates+1\r\n",
        "      k=0\r\n",
        "    l=l+1\r\n",
        "  return rests,moderates,sprints\r\n",
        "\r\n",
        "    \r\n",
        "    \r\n"
      ],
      "execution_count": 36,
      "outputs": [
        {
          "output_type": "stream",
          "text": [
            "time: 18.3 ms (started: 2021-02-12 05:27:44 +00:00)\n"
          ],
          "name": "stdout"
        }
      ]
    },
    {
      "cell_type": "code",
      "metadata": {
        "id": "YrduSdxmEgCJ",
        "colab": {
          "base_uri": "https://localhost:8080/"
        },
        "outputId": "c24f619d-0eb4-432c-aefa-096270d7d311"
      },
      "source": [
        "workload"
      ],
      "execution_count": 37,
      "outputs": [
        {
          "output_type": "execute_result",
          "data": {
            "text/plain": [
              "array([1, 1, 1, 1, 1, 1, 1, 1, 1, 1, 1, 1, 1, 1, 1, 1, 1, 1, 1, 1, 1, 1,\n",
              "       1, 1, 1, 1, 1, 1, 1, 1, 1, 1, 1, 1, 1, 1, 1, 1, 1, 1, 1, 1, 1, 1,\n",
              "       1, 1, 1, 1, 1, 1, 1, 1, 1, 1, 1, 1, 1, 1, 1, 2, 1, 1, 0, 0, 0, 0,\n",
              "       0, 0, 0, 0, 0, 0, 0, 0, 0, 0, 0, 0, 0, 0, 0, 0, 0, 0, 0, 0, 0, 0,\n",
              "       0, 0, 0, 0, 0, 0, 0, 0, 0, 0, 0, 0, 0, 0, 0, 0, 0, 0, 0, 0, 0, 0,\n",
              "       0, 0, 0, 0, 0, 0, 0, 0, 0, 0, 0, 0, 0, 0, 0, 0, 0, 0, 0, 0, 0, 0,\n",
              "       0, 0, 0, 0, 0, 0, 0, 0, 0, 0, 0, 0, 0, 0, 0, 0, 0, 0, 0, 0, 0, 0,\n",
              "       0, 0, 0, 0, 0, 0, 0, 0, 0, 0, 0, 0, 0, 0, 0, 0, 0, 0, 0, 0, 0, 0,\n",
              "       0, 0, 0, 0, 0, 0, 0, 0, 3, 3, 3, 3, 3, 3, 3, 3, 3, 3, 3, 3, 3, 3,\n",
              "       3, 3, 3, 3, 3, 3, 3, 3, 3, 3, 3, 3, 3, 3, 3, 3, 3, 3, 3, 3, 3, 3,\n",
              "       3, 3, 3, 3, 3, 3, 3, 3, 3, 3, 3, 3, 3, 3, 3, 3, 3, 3, 3, 3, 3, 3,\n",
              "       3, 3, 3, 3, 2, 1, 1, 1, 1, 1, 1, 1, 2, 1, 1, 1, 1, 1, 1, 1, 1, 1,\n",
              "       1, 1, 1, 1, 1, 1, 1, 2, 1, 1, 1, 1, 1, 1, 1, 1, 1, 1, 1, 1, 1, 1,\n",
              "       1, 1, 1, 1, 1, 1, 1, 1, 1, 1, 1, 1, 2, 1, 1, 1, 1, 1, 1, 1, 1, 0,\n",
              "       1, 3, 2, 0, 3, 2, 0, 2, 3, 1, 1, 3, 1, 1, 3, 2, 0, 3, 3, 0, 1, 3,\n",
              "       1, 0, 3, 3, 0, 2, 3, 0, 1, 3, 1, 1, 3, 2, 0, 3, 3, 0, 2, 3, 1, 1,\n",
              "       3, 1, 1, 3, 2, 0, 2, 3, 1, 1, 3, 1, 0, 3, 3, 0, 2, 3, 1, 1, 3, 2,\n",
              "       0, 0, 0, 0, 0, 0, 0, 0, 0, 0, 0, 0, 0, 0, 0, 0, 0, 0, 0, 0, 0, 0,\n",
              "       0, 0, 0, 0, 0, 0, 0, 0, 0, 0, 0, 0, 0, 0, 0, 0, 0, 0, 0, 0, 0, 0,\n",
              "       0, 0, 0, 0, 0, 0, 0, 0, 0, 0, 0, 0, 0, 0, 0, 0, 0, 0, 0, 0, 0, 0,\n",
              "       1, 3, 1, 1, 2, 2, 0, 2, 2, 0, 1, 3, 1, 1, 3, 1, 0, 2, 3, 1, 1, 3,\n",
              "       1, 0, 2, 2, 1, 1, 3, 2, 1, 3, 2, 0, 2, 3, 1, 1, 3, 1, 1, 3, 2, 0,\n",
              "       2, 3, 0, 1, 3, 1, 0, 3, 2, 0, 2, 2, 0, 2, 3, 1, 1, 2, 2, 2, 2, 2,\n",
              "       2, 2, 2, 2, 2, 2, 2, 2, 2, 2, 2, 2, 2, 2, 2, 2, 2, 2, 2, 1, 2, 2,\n",
              "       2, 2, 2, 2, 2, 2, 1, 2, 2, 2, 2, 2, 2, 1, 2, 2, 2, 2, 2, 2, 2, 2,\n",
              "       2, 2, 2, 2, 2, 2, 2, 2, 2, 2, 2, 2, 2, 2, 2, 2, 2, 2, 2, 2, 2, 2,\n",
              "       2, 2, 2, 2, 2, 2, 2, 2, 2, 2, 2, 2, 2, 2, 2, 2, 2, 2, 2, 2, 3, 2,\n",
              "       2, 2, 2, 2, 2, 2, 2, 2, 2, 2, 2, 2, 2, 2, 2, 2, 2, 2, 2, 2, 2, 2,\n",
              "       2, 2, 2, 2, 2, 2, 2, 2, 3, 3, 3, 3, 3, 3, 3, 3, 3, 3, 3, 3, 3, 3,\n",
              "       3, 3, 3, 3, 3, 3, 3, 3, 3, 3, 3, 3, 3, 3, 3, 3, 3, 3, 3, 3, 3, 3,\n",
              "       3, 3, 3, 3, 3, 3, 3, 3, 3, 3, 3, 3, 3, 3, 3, 3, 3, 3, 3, 3, 3, 3,\n",
              "       3, 3, 3, 3, 3, 3, 3, 3, 3, 3, 3, 3, 3, 3, 3, 3, 3, 3, 3, 3, 3, 3,\n",
              "       3, 3])"
            ]
          },
          "metadata": {
            "tags": []
          },
          "execution_count": 37
        },
        {
          "output_type": "stream",
          "text": [
            "time: 4.97 ms (started: 2021-02-12 05:27:44 +00:00)\n"
          ],
          "name": "stdout"
        }
      ]
    },
    {
      "cell_type": "code",
      "metadata": {
        "id": "M70AKeWFI-PF",
        "colab": {
          "base_uri": "https://localhost:8080/"
        },
        "outputId": "6a821f70-9593-48fb-c0ee-bcfc77a2bfb5"
      },
      "source": [
        "rests,moderates,sprints=calcworklod(\"/content/drive/MyDrive/Final Year Project/MHEALTHDATASET/Subject4.csv\")"
      ],
      "execution_count": 38,
      "outputs": [
        {
          "output_type": "stream",
          "text": [
            "time: 876 ms (started: 2021-02-12 05:27:44 +00:00)\n"
          ],
          "name": "stdout"
        }
      ]
    },
    {
      "cell_type": "code",
      "metadata": {
        "colab": {
          "base_uri": "https://localhost:8080/"
        },
        "id": "FLbpfSmkfcqZ",
        "outputId": "90f8f454-8169-4f50-8d56-6048f6b44395"
      },
      "source": [
        "rests"
      ],
      "execution_count": 39,
      "outputs": [
        {
          "output_type": "execute_result",
          "data": {
            "text/plain": [
              "3"
            ]
          },
          "metadata": {
            "tags": []
          },
          "execution_count": 39
        },
        {
          "output_type": "stream",
          "text": [
            "time: 3.12 ms (started: 2021-02-12 05:27:45 +00:00)\n"
          ],
          "name": "stdout"
        }
      ]
    },
    {
      "cell_type": "code",
      "metadata": {
        "id": "nRMultLuf5Il",
        "colab": {
          "base_uri": "https://localhost:8080/"
        },
        "outputId": "5a897623-4bb2-4e70-a4ae-648f2aa1183d"
      },
      "source": [
        "moderates"
      ],
      "execution_count": 40,
      "outputs": [
        {
          "output_type": "execute_result",
          "data": {
            "text/plain": [
              "5"
            ]
          },
          "metadata": {
            "tags": []
          },
          "execution_count": 40
        },
        {
          "output_type": "stream",
          "text": [
            "time: 3.05 ms (started: 2021-02-12 05:27:45 +00:00)\n"
          ],
          "name": "stdout"
        }
      ]
    },
    {
      "cell_type": "code",
      "metadata": {
        "id": "3aP4ujCjfdHD",
        "colab": {
          "base_uri": "https://localhost:8080/"
        },
        "outputId": "2cdf87a8-4838-4f5e-8d41-bd33999a611f"
      },
      "source": [
        "sprints"
      ],
      "execution_count": 41,
      "outputs": [
        {
          "output_type": "execute_result",
          "data": {
            "text/plain": [
              "1"
            ]
          },
          "metadata": {
            "tags": []
          },
          "execution_count": 41
        },
        {
          "output_type": "stream",
          "text": [
            "time: 2.76 ms (started: 2021-02-12 05:27:45 +00:00)\n"
          ],
          "name": "stdout"
        }
      ]
    },
    {
      "cell_type": "code",
      "metadata": {
        "id": "QwlaOvl0fdc6"
      },
      "source": [
        ""
      ],
      "execution_count": 41,
      "outputs": []
    },
    {
      "cell_type": "markdown",
      "metadata": {
        "id": "SMEoj14RvONR"
      },
      "source": [
        "***Using LSTM models***"
      ]
    },
    {
      "cell_type": "code",
      "metadata": {
        "id": "yRVFqBwqvMHi",
        "colab": {
          "base_uri": "https://localhost:8080/"
        },
        "outputId": "bab621f1-74ab-4500-9030-ae5a6a6d3a80"
      },
      "source": [
        "import numpy as np\r\n",
        "import tensorflow as tf \r\n",
        "from tensorflow import keras\r\n",
        "from tensorflow.keras.models import Sequential\r\n",
        "from tensorflow.keras.layers import Activation,Dense,BatchNormalization,Flatten,Conv2D,MaxPool2D,Dropout,BatchNormalization,LSTM\r\n",
        "from tensorflow.keras.optimizers import Adam\r\n",
        "from tensorflow.keras.metrics import sparse_categorical_accuracy\r\n",
        "from tensorflow.keras.preprocessing.image import ImageDataGenerator\r\n",
        "from sklearn.metrics import confusion_matrix\r\n",
        "from sklearn.model_selection import train_test_split\r\n",
        "import itertools\r\n",
        "import os \r\n",
        "import glob\r\n",
        "import shutil\r\n",
        "import random\r\n",
        "import matplotlib.pyplot as plt\r\n",
        "import warnings\r\n",
        "warnings.simplefilter(action=\"ignore\",category=FutureWarning)\r\n",
        "%matplotlib inline"
      ],
      "execution_count": 42,
      "outputs": [
        {
          "output_type": "stream",
          "text": [
            "time: 19.6 ms (started: 2021-02-12 05:27:45 +00:00)\n"
          ],
          "name": "stdout"
        }
      ]
    },
    {
      "cell_type": "code",
      "metadata": {
        "id": "4YiOFfyU49R1",
        "colab": {
          "base_uri": "https://localhost:8080/"
        },
        "outputId": "d0d506f2-568f-45c6-9f5c-ea1081d0f003"
      },
      "source": [
        "lstmmodel=Sequential([\r\n",
        "                      LSTM(units=32,activation='relu',return_sequences=True,input_shape=(x_train.shape[1],x_train.shape[2])),\r\n",
        "                      LSTM(units=32,activation='relu',return_sequences=True),\r\n",
        "                      LSTM(units=64),\r\n",
        "                      Dense(units=4,activation='softmax')\r\n",
        "                      \r\n",
        "])"
      ],
      "execution_count": 43,
      "outputs": [
        {
          "output_type": "stream",
          "text": [
            "time: 446 ms (started: 2021-02-12 05:27:45 +00:00)\n"
          ],
          "name": "stdout"
        }
      ]
    },
    {
      "cell_type": "code",
      "metadata": {
        "id": "BHUaXSwS7POt",
        "colab": {
          "base_uri": "https://localhost:8080/"
        },
        "outputId": "ca0002c0-7743-4f9b-c25f-c0829a2e87b6"
      },
      "source": [
        "lstmmodel.compile(optimizer=Adam(learning_rate=0.0001),loss='sparse_categorical_crossentropy',metrics='accuracy')"
      ],
      "execution_count": 44,
      "outputs": [
        {
          "output_type": "stream",
          "text": [
            "time: 15.2 ms (started: 2021-02-12 05:27:46 +00:00)\n"
          ],
          "name": "stdout"
        }
      ]
    },
    {
      "cell_type": "code",
      "metadata": {
        "id": "g8S4TVbn8DH1"
      },
      "source": [
        "x_train_new=np.reshape(x_train,(x_train.shape[0],x_train.shape[1],x_train.shape[2]))\r\n",
        "x_test_new=np.reshape(x_test,(x_test.shape[0],x_test.shape[1],x_test.shape[2]))\r\n",
        "\r\n",
        "\r\n",
        "\r\n",
        "%load_ext autotime\r\n",
        "\r\n",
        "lstmmodel.fit(x=x_train_new,y=y_train,validation_split=0.2,batch_size=100,epochs=99,verbose=2)"
      ],
      "execution_count": null,
      "outputs": []
    },
    {
      "cell_type": "code",
      "metadata": {
        "colab": {
          "base_uri": "https://localhost:8080/",
          "height": 550
        },
        "id": "aIZ_ctATKFdb",
        "outputId": "8a1dc39f-2af7-4ec6-a638-640cde2eedd1"
      },
      "source": [
        "plot_model(lstmmodel, to_file='lstm_model_plot.png', show_shapes=True, show_layer_names=True)"
      ],
      "execution_count": 46,
      "outputs": [
        {
          "output_type": "execute_result",
          "data": {
            "image/png": "[encoded data removed]",
            "text/plain": [
              "<IPython.core.display.Image object>"
            ]
          },
          "metadata": {
            "tags": []
          },
          "execution_count": 46
        },
        {
          "output_type": "stream",
          "text": [
            "time: 325 ms (started: 2021-02-12 05:29:29 +00:00)\n"
          ],
          "name": "stdout"
        }
      ]
    },
    {
      "cell_type": "code",
      "metadata": {
        "id": "uwskS4X38MTm",
        "colab": {
          "base_uri": "https://localhost:8080/"
        },
        "outputId": "6ba08606-cd86-46fc-b116-4f43ed3cab74"
      },
      "source": [
        "lstm_predictions=lstmmodel.predict(x_test_new)\r\n",
        "lstm_predictions=np.argmax(lstm_predictions,axis=-1)"
      ],
      "execution_count": 47,
      "outputs": [
        {
          "output_type": "stream",
          "text": [
            "time: 1.13 s (started: 2021-02-12 05:29:30 +00:00)\n"
          ],
          "name": "stdout"
        }
      ]
    },
    {
      "cell_type": "code",
      "metadata": {
        "id": "HKiFpIhqYJBZ",
        "colab": {
          "base_uri": "https://localhost:8080/"
        },
        "outputId": "f2ddfbeb-d70a-45c1-a5e4-570e341d60ef"
      },
      "source": [
        "if os.path.isfile('/content/drive/MyDrive/Final Year Project/Deep L Models/LSTM_model.h5') is False:\r\n",
        "  model.save('/content/drive/MyDrive/Final Year Project/Deep L Models/LSTM_model.h5')"
      ],
      "execution_count": 48,
      "outputs": [
        {
          "output_type": "stream",
          "text": [
            "time: 2.17 ms (started: 2021-02-12 05:29:31 +00:00)\n"
          ],
          "name": "stdout"
        }
      ]
    },
    {
      "cell_type": "code",
      "metadata": {
        "id": "EnKsCs9h-PD_",
        "colab": {
          "base_uri": "https://localhost:8080/"
        },
        "outputId": "e0135696-e160-4622-8646-c9ad5e73b3ea"
      },
      "source": [
        "lstm_cm_plot_labels = ['Standing','Walking','Jogging','Running']"
      ],
      "execution_count": 49,
      "outputs": [
        {
          "output_type": "stream",
          "text": [
            "time: 1.27 ms (started: 2021-02-12 05:29:31 +00:00)\n"
          ],
          "name": "stdout"
        }
      ]
    },
    {
      "cell_type": "code",
      "metadata": {
        "id": "shzkpA3N-hbL",
        "colab": {
          "base_uri": "https://localhost:8080/"
        },
        "outputId": "950b7eb0-da7d-43d3-f23b-8c51c87917e5"
      },
      "source": [
        "lstm_cm= confusion_matrix(y_true=y_test,y_pred=lstm_predictions)"
      ],
      "execution_count": 50,
      "outputs": [
        {
          "output_type": "stream",
          "text": [
            "time: 4.47 ms (started: 2021-02-12 05:29:31 +00:00)\n"
          ],
          "name": "stdout"
        }
      ]
    },
    {
      "cell_type": "code",
      "metadata": {
        "id": "-BDjNpb1-3-T",
        "colab": {
          "base_uri": "https://localhost:8080/",
          "height": 413
        },
        "outputId": "11b9028a-10f7-4559-a630-1d76c961c12b"
      },
      "source": [
        "plot_confusion_matrix('/content/drive/MyDrive/Final Year Project/Deep L Models/confusion matrices/confusion_lstm_2',cm=lstm_cm, classes=lstm_cm_plot_labels, title='Confusion Matrix for LSTM Model')"
      ],
      "execution_count": 51,
      "outputs": [
        {
          "output_type": "stream",
          "text": [
            "Confusion matrix, without normalization\n",
            "[[305   0   0   0]\n",
            " [  0 296   0   0]\n",
            " [  0   0 307   7]\n",
            " [  0   0  17 288]]\n"
          ],
          "name": "stdout"
        },
        {
          "output_type": "display_data",
          "data": {
            "image/png": "[encoded data removed]",
            "text/plain": [
              "<Figure size 432x288 with 2 Axes>"
            ]
          },
          "metadata": {
            "tags": [],
            "needs_background": "light"
          }
        },
        {
          "output_type": "stream",
          "text": [
            "time: 359 ms (started: 2021-02-12 05:29:31 +00:00)\n"
          ],
          "name": "stdout"
        }
      ]
    },
    {
      "cell_type": "code",
      "metadata": {
        "id": "aG-PNMg4VAnJ"
      },
      "source": [
        ""
      ],
      "execution_count": 51,
      "outputs": []
    }
  ]
}